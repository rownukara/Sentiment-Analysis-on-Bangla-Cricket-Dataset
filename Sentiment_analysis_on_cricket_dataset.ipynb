{
  "cells": [
    {
      "cell_type": "code",
      "execution_count": 14,
      "metadata": {
        "id": "Md13z0WTcQIa"
      },
      "outputs": [],
      "source": [
        "import pandas as pd\n",
        "import numpy as np\n",
        "from tensorflow.keras.preprocessing.text import Tokenizer\n",
        "from tensorflow.keras.preprocessing.sequence import pad_sequences\n",
        "from sklearn.model_selection import train_test_split\n",
        "\n",
        "# Load the dataset from CSV\n",
        "df = pd.read_excel('/content/drive/MyDrive/cricket.xlsx')  # Replace 'your_dataset.csv' with the actual path to your CSV file\n",
        "\n",
        "# Preprocess the data\n",
        "texts = df['bangla_text'].values\n",
        "labels = df['sentiment_label'].values\n",
        "\n",
        "# Split the dataset into training and testing sets\n",
        "train_texts, test_texts, train_labels, test_labels = train_test_split(texts, labels, test_size=0.2, random_state=42)\n"
      ]
    },
    {
      "cell_type": "code",
      "execution_count": 25,
      "metadata": {
        "colab": {
          "base_uri": "https://localhost:8080/",
          "height": 423
        },
        "id": "VH7XupT_eeFx",
        "outputId": "b92ad394-817a-46d4-aa21-f1f05a8c0426"
      },
      "outputs": [
        {
          "data": {
            "text/html": [
              "\n",
              "  <div id=\"df-143c0f5b-e730-4cab-86a4-b8fdb1c4824e\">\n",
              "    <div class=\"colab-df-container\">\n",
              "      <div>\n",
              "<style scoped>\n",
              "    .dataframe tbody tr th:only-of-type {\n",
              "        vertical-align: middle;\n",
              "    }\n",
              "\n",
              "    .dataframe tbody tr th {\n",
              "        vertical-align: top;\n",
              "    }\n",
              "\n",
              "    .dataframe thead th {\n",
              "        text-align: right;\n",
              "    }\n",
              "</style>\n",
              "<table border=\"1\" class=\"dataframe\">\n",
              "  <thead>\n",
              "    <tr style=\"text-align: right;\">\n",
              "      <th></th>\n",
              "      <th>bangla_text</th>\n",
              "      <th>category</th>\n",
              "      <th>sentiment_label</th>\n",
              "    </tr>\n",
              "  </thead>\n",
              "  <tbody>\n",
              "    <tr>\n",
              "      <th>0</th>\n",
              "      <td>জয় বাংলা কাপ! তাও আবার স্বাধীনতার মাস মার্চে। ...</td>\n",
              "      <td>other</td>\n",
              "      <td>positive</td>\n",
              "    </tr>\n",
              "    <tr>\n",
              "      <th>1</th>\n",
              "      <td>জয় বাংলা কাপ! তাও আবার স্বাধীনতার মাস মার্চে। ...</td>\n",
              "      <td>team</td>\n",
              "      <td>positive</td>\n",
              "    </tr>\n",
              "    <tr>\n",
              "      <th>2</th>\n",
              "      <td>বাংলাদেশের পরে ভারতের সাপর্ট ই করি ?</td>\n",
              "      <td>team</td>\n",
              "      <td>positive</td>\n",
              "    </tr>\n",
              "    <tr>\n",
              "      <th>3</th>\n",
              "      <td>সৌম্যকে বাদ দেওয়া হোক</td>\n",
              "      <td>batting</td>\n",
              "      <td>negative</td>\n",
              "    </tr>\n",
              "    <tr>\n",
              "      <th>4</th>\n",
              "      <td>প্রথমটি হচ্ছে, কোচ অত:পর সাকিব,সাকিব আর সাকিবর...</td>\n",
              "      <td>team</td>\n",
              "      <td>positive</td>\n",
              "    </tr>\n",
              "    <tr>\n",
              "      <th>...</th>\n",
              "      <td>...</td>\n",
              "      <td>...</td>\n",
              "      <td>...</td>\n",
              "    </tr>\n",
              "    <tr>\n",
              "      <th>2974</th>\n",
              "      <td>নির্বাচকমণ্ডলী দের গালে জুতা মারা উচিত.. হালা...</td>\n",
              "      <td>team management</td>\n",
              "      <td>negative</td>\n",
              "    </tr>\n",
              "    <tr>\n",
              "      <th>2975</th>\n",
              "      <td>বস ভাল করবে ইটাই আশা করি,দারুন এরজন ব্যাটিং অল...</td>\n",
              "      <td>batting</td>\n",
              "      <td>negative</td>\n",
              "    </tr>\n",
              "    <tr>\n",
              "      <th>2976</th>\n",
              "      <td>বস ভাল করবে ইটাই আশা করি,দারুন এরজন ব্যাটিং অল...</td>\n",
              "      <td>bowling</td>\n",
              "      <td>negative</td>\n",
              "    </tr>\n",
              "    <tr>\n",
              "      <th>2977</th>\n",
              "      <td>গুগল সার্চ করে মিনহাজের রানরেট দেখে নিন? এভারে...</td>\n",
              "      <td>team management</td>\n",
              "      <td>negative</td>\n",
              "    </tr>\n",
              "    <tr>\n",
              "      <th>2978</th>\n",
              "      <td>টিম মেনেজমেন্ট থেকে শুরু করে সবাইকে গাজার পরিব...</td>\n",
              "      <td>team management</td>\n",
              "      <td>negative</td>\n",
              "    </tr>\n",
              "  </tbody>\n",
              "</table>\n",
              "<p>2979 rows × 3 columns</p>\n",
              "</div>\n",
              "      <button class=\"colab-df-convert\" onclick=\"convertToInteractive('df-143c0f5b-e730-4cab-86a4-b8fdb1c4824e')\"\n",
              "              title=\"Convert this dataframe to an interactive table.\"\n",
              "              style=\"display:none;\">\n",
              "        \n",
              "  <svg xmlns=\"http://www.w3.org/2000/svg\" height=\"24px\"viewBox=\"0 0 24 24\"\n",
              "       width=\"24px\">\n",
              "    <path d=\"M0 0h24v24H0V0z\" fill=\"none\"/>\n",
              "    <path d=\"M18.56 5.44l.94 2.06.94-2.06 2.06-.94-2.06-.94-.94-2.06-.94 2.06-2.06.94zm-11 1L8.5 8.5l.94-2.06 2.06-.94-2.06-.94L8.5 2.5l-.94 2.06-2.06.94zm10 10l.94 2.06.94-2.06 2.06-.94-2.06-.94-.94-2.06-.94 2.06-2.06.94z\"/><path d=\"M17.41 7.96l-1.37-1.37c-.4-.4-.92-.59-1.43-.59-.52 0-1.04.2-1.43.59L10.3 9.45l-7.72 7.72c-.78.78-.78 2.05 0 2.83L4 21.41c.39.39.9.59 1.41.59.51 0 1.02-.2 1.41-.59l7.78-7.78 2.81-2.81c.8-.78.8-2.07 0-2.86zM5.41 20L4 18.59l7.72-7.72 1.47 1.35L5.41 20z\"/>\n",
              "  </svg>\n",
              "      </button>\n",
              "      \n",
              "  <style>\n",
              "    .colab-df-container {\n",
              "      display:flex;\n",
              "      flex-wrap:wrap;\n",
              "      gap: 12px;\n",
              "    }\n",
              "\n",
              "    .colab-df-convert {\n",
              "      background-color: #E8F0FE;\n",
              "      border: none;\n",
              "      border-radius: 50%;\n",
              "      cursor: pointer;\n",
              "      display: none;\n",
              "      fill: #1967D2;\n",
              "      height: 32px;\n",
              "      padding: 0 0 0 0;\n",
              "      width: 32px;\n",
              "    }\n",
              "\n",
              "    .colab-df-convert:hover {\n",
              "      background-color: #E2EBFA;\n",
              "      box-shadow: 0px 1px 2px rgba(60, 64, 67, 0.3), 0px 1px 3px 1px rgba(60, 64, 67, 0.15);\n",
              "      fill: #174EA6;\n",
              "    }\n",
              "\n",
              "    [theme=dark] .colab-df-convert {\n",
              "      background-color: #3B4455;\n",
              "      fill: #D2E3FC;\n",
              "    }\n",
              "\n",
              "    [theme=dark] .colab-df-convert:hover {\n",
              "      background-color: #434B5C;\n",
              "      box-shadow: 0px 1px 3px 1px rgba(0, 0, 0, 0.15);\n",
              "      filter: drop-shadow(0px 1px 2px rgba(0, 0, 0, 0.3));\n",
              "      fill: #FFFFFF;\n",
              "    }\n",
              "  </style>\n",
              "\n",
              "      <script>\n",
              "        const buttonEl =\n",
              "          document.querySelector('#df-143c0f5b-e730-4cab-86a4-b8fdb1c4824e button.colab-df-convert');\n",
              "        buttonEl.style.display =\n",
              "          google.colab.kernel.accessAllowed ? 'block' : 'none';\n",
              "\n",
              "        async function convertToInteractive(key) {\n",
              "          const element = document.querySelector('#df-143c0f5b-e730-4cab-86a4-b8fdb1c4824e');\n",
              "          const dataTable =\n",
              "            await google.colab.kernel.invokeFunction('convertToInteractive',\n",
              "                                                     [key], {});\n",
              "          if (!dataTable) return;\n",
              "\n",
              "          const docLinkHtml = 'Like what you see? Visit the ' +\n",
              "            '<a target=\"_blank\" href=https://colab.research.google.com/notebooks/data_table.ipynb>data table notebook</a>'\n",
              "            + ' to learn more about interactive tables.';\n",
              "          element.innerHTML = '';\n",
              "          dataTable['output_type'] = 'display_data';\n",
              "          await google.colab.output.renderOutput(dataTable, element);\n",
              "          const docLink = document.createElement('div');\n",
              "          docLink.innerHTML = docLinkHtml;\n",
              "          element.appendChild(docLink);\n",
              "        }\n",
              "      </script>\n",
              "    </div>\n",
              "  </div>\n",
              "  "
            ],
            "text/plain": [
              "                                            bangla_text         category  \\\n",
              "0     জয় বাংলা কাপ! তাও আবার স্বাধীনতার মাস মার্চে। ...            other   \n",
              "1     জয় বাংলা কাপ! তাও আবার স্বাধীনতার মাস মার্চে। ...             team   \n",
              "2                  বাংলাদেশের পরে ভারতের সাপর্ট ই করি ?             team   \n",
              "3                                 সৌম্যকে বাদ দেওয়া হোক          batting   \n",
              "4     প্রথমটি হচ্ছে, কোচ অত:পর সাকিব,সাকিব আর সাকিবর...             team   \n",
              "...                                                 ...              ...   \n",
              "2974   নির্বাচকমণ্ডলী দের গালে জুতা মারা উচিত.. হালা...  team management   \n",
              "2975  বস ভাল করবে ইটাই আশা করি,দারুন এরজন ব্যাটিং অল...          batting   \n",
              "2976  বস ভাল করবে ইটাই আশা করি,দারুন এরজন ব্যাটিং অল...          bowling   \n",
              "2977  গুগল সার্চ করে মিনহাজের রানরেট দেখে নিন? এভারে...  team management   \n",
              "2978  টিম মেনেজমেন্ট থেকে শুরু করে সবাইকে গাজার পরিব...  team management   \n",
              "\n",
              "     sentiment_label  \n",
              "0           positive  \n",
              "1           positive  \n",
              "2           positive  \n",
              "3           negative  \n",
              "4           positive  \n",
              "...              ...  \n",
              "2974        negative  \n",
              "2975        negative  \n",
              "2976        negative  \n",
              "2977        negative  \n",
              "2978        negative  \n",
              "\n",
              "[2979 rows x 3 columns]"
            ]
          },
          "execution_count": 25,
          "metadata": {},
          "output_type": "execute_result"
        }
      ],
      "source": [
        "df"
      ]
    },
    {
      "cell_type": "code",
      "execution_count": 15,
      "metadata": {
        "id": "at9d_HL3c7f5"
      },
      "outputs": [],
      "source": [
        "# Tokenize the text\n",
        "tokenizer = Tokenizer()\n",
        "tokenizer.fit_on_texts(train_texts)\n",
        "\n",
        "vocab_size = len(tokenizer.word_index) + 1\n",
        "\n",
        "train_sequences = tokenizer.texts_to_sequences(train_texts)\n",
        "test_sequences = tokenizer.texts_to_sequences(test_texts)\n"
      ]
    },
    {
      "cell_type": "code",
      "execution_count": 16,
      "metadata": {
        "id": "D9b1tmnoc-NN"
      },
      "outputs": [],
      "source": [
        "# Pad sequences\n",
        "max_length = 100  # Specify the maximum sequence length\n",
        "train_padded = pad_sequences(train_sequences, maxlen=max_length, padding='post', truncating='post')\n",
        "test_padded = pad_sequences(test_sequences, maxlen=max_length, padding='post', truncating='post')\n"
      ]
    },
    {
      "cell_type": "code",
      "execution_count": 17,
      "metadata": {
        "id": "GTNQ5-EzdDI-"
      },
      "outputs": [],
      "source": [
        "# Map sentiment labels to numerical values\n",
        "label_mapping = {'negative': 0, 'positive': 1, 'neutral': 2}  # Update with your actual label mapping\n",
        "train_labels = np.array([label_mapping[label] for label in train_labels])\n",
        "test_labels = np.array([label_mapping[label] for label in test_labels])\n"
      ]
    },
    {
      "cell_type": "code",
      "execution_count": 18,
      "metadata": {
        "id": "Nrlzd05MdHQE"
      },
      "outputs": [],
      "source": [
        "import tensorflow as tf\n",
        "from tensorflow.keras.models import Sequential\n",
        "from tensorflow.keras.layers import Embedding, LSTM, Dense"
      ]
    },
    {
      "cell_type": "code",
      "execution_count": 19,
      "metadata": {
        "id": "aV7PNvfddO3w"
      },
      "outputs": [],
      "source": [
        "# Define the LSTM model\n",
        "model = Sequential()\n",
        "model.add(Embedding(vocab_size, 100, input_length=max_length))\n",
        "model.add(LSTM(64))\n",
        "model.add(Dense(3, activation='softmax'))  # Adjust the number of units based on the number of sentiment classes"
      ]
    },
    {
      "cell_type": "code",
      "execution_count": 20,
      "metadata": {
        "id": "b2GDgaS5dTYG"
      },
      "outputs": [],
      "source": [
        "# Compile the model\n",
        "model.compile(optimizer='adam', loss='sparse_categorical_crossentropy', metrics=['accuracy'])"
      ]
    },
    {
      "cell_type": "code",
      "execution_count": 21,
      "metadata": {
        "colab": {
          "base_uri": "https://localhost:8080/"
        },
        "id": "y8_R15cldYXF",
        "outputId": "67e268f9-055c-407f-ba7a-4d4da92bffdc"
      },
      "outputs": [
        {
          "name": "stdout",
          "output_type": "stream",
          "text": [
            "Epoch 1/10\n",
            "75/75 [==============================] - 13s 123ms/step - loss: 0.7999 - accuracy: 0.7214 - val_loss: 0.7498 - val_accuracy: 0.7265\n",
            "Epoch 2/10\n",
            "75/75 [==============================] - 8s 102ms/step - loss: 0.7750 - accuracy: 0.7214 - val_loss: 0.7532 - val_accuracy: 0.7265\n",
            "Epoch 3/10\n",
            "75/75 [==============================] - 8s 102ms/step - loss: 0.7694 - accuracy: 0.7214 - val_loss: 0.7547 - val_accuracy: 0.7265\n",
            "Epoch 4/10\n",
            "75/75 [==============================] - 8s 112ms/step - loss: 0.7699 - accuracy: 0.7214 - val_loss: 0.7494 - val_accuracy: 0.7265\n",
            "Epoch 5/10\n",
            "75/75 [==============================] - 7s 95ms/step - loss: 0.7715 - accuracy: 0.7214 - val_loss: 0.7587 - val_accuracy: 0.7265\n",
            "Epoch 6/10\n",
            "75/75 [==============================] - 9s 116ms/step - loss: 0.7703 - accuracy: 0.7214 - val_loss: 0.7516 - val_accuracy: 0.7265\n",
            "Epoch 7/10\n",
            "75/75 [==============================] - 7s 96ms/step - loss: 0.7686 - accuracy: 0.7214 - val_loss: 0.7492 - val_accuracy: 0.7265\n",
            "Epoch 8/10\n",
            "75/75 [==============================] - 9s 118ms/step - loss: 0.7707 - accuracy: 0.7214 - val_loss: 0.7505 - val_accuracy: 0.7265\n",
            "Epoch 9/10\n",
            "75/75 [==============================] - 7s 96ms/step - loss: 0.7699 - accuracy: 0.7214 - val_loss: 0.7498 - val_accuracy: 0.7265\n",
            "Epoch 10/10\n",
            "75/75 [==============================] - 9s 116ms/step - loss: 0.7706 - accuracy: 0.7214 - val_loss: 0.7489 - val_accuracy: 0.7265\n"
          ]
        },
        {
          "data": {
            "text/plain": [
              "<keras.callbacks.History at 0x7fc25f077e50>"
            ]
          },
          "execution_count": 21,
          "metadata": {},
          "output_type": "execute_result"
        }
      ],
      "source": [
        "# Train the model\n",
        "model.fit(train_padded, train_labels, epochs=10, validation_data=(test_padded, test_labels))"
      ]
    },
    {
      "cell_type": "code",
      "execution_count": 22,
      "metadata": {
        "colab": {
          "base_uri": "https://localhost:8080/"
        },
        "id": "ygumTs8Ed7VM",
        "outputId": "b97660b1-f52c-472a-a669-b44a9490ba5f"
      },
      "outputs": [
        {
          "name": "stdout",
          "output_type": "stream",
          "text": [
            "19/19 [==============================] - 1s 30ms/step - loss: 0.7489 - accuracy: 0.7265\n",
            "Test Loss: 0.7489497661590576\n",
            "Test Accuracy: 0.7265100479125977\n"
          ]
        }
      ],
      "source": [
        "# Evaluate the model\n",
        "loss, accuracy = model.evaluate(test_padded, test_labels)\n",
        "print('Test Loss:', loss)\n",
        "print('Test Accuracy:', accuracy)"
      ]
    }
  ],
  "metadata": {
    "colab": {
      "provenance": []
    },
    "kernelspec": {
      "display_name": "Python 3",
      "name": "python3"
    },
    "language_info": {
      "name": "python"
    }
  },
  "nbformat": 4,
  "nbformat_minor": 0
}
